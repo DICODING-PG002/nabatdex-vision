{
 "cells": [
  {
   "cell_type": "markdown",
   "metadata": {
    "id": "8DbfEwvvm5U4"
   },
   "source": [
    "## Inference"
   ]
  },
  {
   "cell_type": "code",
   "execution_count": null,
   "metadata": {},
   "outputs": [],
   "source": [
    "import os\n",
    "from ml import ml_impl_keras  # ensure registrations are loaded\n",
    "from ml.ml_pipeline import run\n",
    "\n",
    "cfg = {\n",
    "    \"data\": {\n",
    "        \"source\": \"kaggle_plant_rice\",  # adjust if you registered a different loader\n",
    "        \"params\": {\n",
    "            \"img_height\": 224,\n",
    "            \"img_width\": 224,\n",
    "            \"train_split\": 0.8,\n",
    "            \"val_split\": 0.1,\n",
    "            \"seed\": 42,\n",
    "            \"normalize\": True,\n",
    "        },\n",
    "    },\n",
    "    \"augmenters\": [],  # keep empty when using on-the-fly tf.data augmentation\n",
    "    \"model\": {\n",
    "        \"builder\": \"mobilenet_v2_transfer\",\n",
    "        \"params\": {\n",
    "            \"freeze_base\": True,\n",
    "            \"mixed_precision\": True,\n",
    "            \"dropout\": 0.3,\n",
    "            \"dense_units\": 256,\n",
    "            \"dense_l2\": 1e-4,\n",
    "            \"classifier_l2\": 1e-4,\n",
    "            \"optimizer\": \"Adam\",\n",
    "            \"learning_rate\": 3e-4,\n",
    "            \"from_0_1\": True,\n",
    "        },\n",
    "    },\n",
    "    \"train\": {\n",
    "        \"trainer\": \"tfdata\",\n",
    "        \"params\": {\n",
    "            \"epochs\": 40,\n",
    "            \"batch_size\": 32,\n",
    "            \"use_validation\": True,\n",
    "            \"monitor\": \"val_loss\",\n",
    "            \"patience\": 6,\n",
    "            \"checkpoint_path\": \"checkpoints/mobilenet_stage1.keras\",\n",
    "            \"verbose\": 1,\n",
    "            \"shuffle_buffer\": 4096,\n",
    "            \"cache\": False,\n",
    "            \"cache_val\": False,\n",
    "            \"prefetch\": True,\n",
    "            \"xla\": True,\n",
    "            \"steps_per_epoch\": None,\n",
    "            \"validation_steps\": None,\n",
    "            \"class_weight\": \"balanced\",\n",
    "            \"reduce_lr_on_plateau\": {\n",
    "                \"factor\": 0.2,\n",
    "                \"patience\": 3,\n",
    "                \"min_lr\": 3e-6,\n",
    "            },\n",
    "            \"augment\": {\n",
    "                \"flip_lr\": True,\n",
    "                \"flip_ud\": False,\n",
    "                \"rotate90\": True,\n",
    "                \"brightness\": 0.2,\n",
    "                \"contrast\": 0.2,\n",
    "            },\n",
    "        },\n",
    "    },\n",
    "    \"evaluate\": {\n",
    "        \"evaluator\": \"basic\",\n",
    "        \"params\": {},\n",
    "    },\n",
    "    \"export\": [\n",
    "        {\"name\": \"save_h5\", \"params\": {\"path\": \"exports/mobilenet_stage1.h5\"}},\n",
    "        {\"name\": \"save_saved_model\", \"params\": {\"out_dir\": \"exports/saved_model\"}},\n",
    "        {\"name\": \"save_tfjs\", \"params\": {\"out_dir\": \"exports/tfjs\"}},\n",
    "        {\"name\": \"save_tflite\", \"params\": {\"path\": \"exports/model.tflite\", \"select_tf_ops\": True}},\n",
    "    ],\n",
    "}\n",
    "\n",
    "model, results = run(cfg)\n",
    "results"
   ]
  }
 ],
 "metadata": {
  "colab": {
   "provenance": []
  },
  "kernelspec": {
   "display_name": "Python 3",
   "name": "python3"
  },
  "language_info": {
   "name": "python"
  }
 },
 "nbformat": 4,
 "nbformat_minor": 0
}
