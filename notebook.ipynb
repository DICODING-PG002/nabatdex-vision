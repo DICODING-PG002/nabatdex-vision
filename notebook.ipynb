{
 "cells": [
  {
   "cell_type": "markdown",
   "metadata": {
    "id": "8DbfEwvvm5U4"
   },
   "source": [
    "## Inference"
   ]
  },
  {
   "cell_type": "code",
   "execution_count": null,
   "metadata": {},
   "outputs": [],
   "source": [
    "import os\n",
    "from ml import ml_impl_keras  # ensure registrations are loaded\n",
    "from ml.ml_pipeline import run\n",
    "\n",
    "cfg = {\n",
    "    \"data\": {\n",
    "        \"source\": \"kaggle_potato_disease\",\n",
    "        \"params\": {\n",
    "            \"img_height\": 160,  # Adjust as needed\n",
    "            \"img_width\": 160,\n",
    "            \"color_mode\": \"rgb\",\n",
    "            \"normalize\": True,\n",
    "            \"subset_fraction\": 0.4,\n",
    "            \"max_images_per_class\": 50,\n",
    "            \"val_split\": 0.15,\n",
    "            \"test_split\": 0.15,\n",
    "            \"random_state\": 42,\n",
    "        }\n",
    "    },\n",
    "    #\"data\": {\n",
    "    #    \"source\": \"keras_mnist\",\n",
    "    #    \"params\": {}\n",
    "    #},\n",
    "    #\"data\": {\n",
    "    #    \"source\": \"from_directory\",\n",
    "    #    \"params\": {\n",
    "    #        \"train_dir\": \"./data/train\",\n",
    "    #        \"val_dir\": \"./data/val\",\n",
    "    #        \"test_dir\": \"./data/test\",\n",
    "    #        \"img_height\": 28,\n",
    "    #        \"img_width\": 28,\n",
    "    #        \"color_mode\": \"grayscale\",\n",
    "    #        \"normalize\": True,\n",
    "    #    },\n",
    "    #},\n",
    "    \"augmenters\": [],\n",
    "    \"model\": {\n",
    "        \"builder\": \"mobilenet_v2_transfer\",\n",
    "        \"params\": {\n",
    "            \"freeze_base\": True,\n",
    "            \"mixed_precision\": True,\n",
    "            \"dropout\": 0.2,\n",
    "            \"dense_units\": 128,\n",
    "            \"optimizer\": \"Adam\",\n",
    "            \"learning_rate\": 0.0005,\n",
    "            \"from_0_1\": True,\n",
    "        },\n",
    "    },\n",
    "    \"train\": {\n",
    "        \"trainer\": \"tfdata\",\n",
    "        \"params\": {\n",
    "            \"epochs\": 1,\n",
    "            \"batch_size\": 64,\n",
    "            \"use_validation\": True,\n",
    "            \"monitor\": \"val_loss\",\n",
    "            \"patience\": 1,\n",
    "            \"checkpoint_path\": \"best_model.h5\",\n",
    "            \"verbose\": 1,\n",
    "            \"shuffle_buffer\": 2000,\n",
    "            \"cache\": True,\n",
    "            \"prefetch\": True,\n",
    "            \"xla\": True,\n",
    "            \"steps_per_epoch\": 50,\n",
    "            \"validation_steps\": 10,\n",
    "            \"augment\": {\n",
    "                \"flip_lr\": True,\n",
    "                \"flip_ud\": False,\n",
    "                \"rotate90\": False,\n",
    "                \"brightness\": 0.05,\n",
    "                \"contrast\": 0.05,\n",
    "            },\n",
    "        },\n",
    "    },\n",
    "    \"evaluate\": {\"evaluator\": \"basic\", \"params\": {}},\n",
    "    \"export\": [\n",
    "        {\"name\": \"save_h5\", \"params\": {\"path\": \"best_model.h5\"}},\n",
    "        {\"name\": \"save_saved_model\", \"params\": {\"out_dir\": \"saved_model\"}},\n",
    "        {\"name\": \"save_tfjs\", \"params\": {\"out_dir\": \"tfjs_model\"}},\n",
    "        {\"name\": \"save_tflite\", \"params\": {\"path\": \"tflite/model.tflite\"}},\n",
    "    ],\n",
    "}\n",
    "\n",
    "model, results = run(cfg)\n",
    "results"
   ]
  }
 ],
 "metadata": {
  "colab": {
   "provenance": []
  },
  "kernelspec": {
   "display_name": "Python 3",
   "name": "python3"
  },
  "language_info": {
   "name": "python"
  }
 },
 "nbformat": 4,
 "nbformat_minor": 0
}
